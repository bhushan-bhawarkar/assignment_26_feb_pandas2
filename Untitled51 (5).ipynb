{
  "nbformat": 4,
  "nbformat_minor": 0,
  "metadata": {
    "colab": {
      "provenance": []
    },
    "kernelspec": {
      "name": "python3",
      "display_name": "Python 3"
    },
    "language_info": {
      "name": "python"
    }
  },
  "cells": [
    {
      "cell_type": "markdown",
      "source": [
        "Q1. Write a code to print the data present in the second row of the dataframe, df."
      ],
      "metadata": {
        "id": "XmH684lFhF4_"
      }
    },
    {
      "cell_type": "code",
      "source": [
        "import pandas as pd\n",
        "course_name = ['Data Science', 'Machine Learning', 'Big Data', 'Data Engineer']\n",
        "\n",
        "duration = [2,3,6,4]\n",
        "\n",
        "df = pd.DataFrame(data = {'course_name' : course_name, 'duration': duration})"
      ],
      "metadata": {
        "id": "_FVtpKhnhRoD"
      },
      "execution_count": null,
      "outputs": []
    },
    {
      "cell_type": "code",
      "source": [
        "df.iloc[0]"
      ],
      "metadata": {
        "colab": {
          "base_uri": "https://localhost:8080/"
        },
        "id": "-r3uDJC6h1n3",
        "outputId": "23479b9a-ffd5-40b2-d821-82dcb934ef42"
      },
      "execution_count": null,
      "outputs": [
        {
          "output_type": "execute_result",
          "data": {
            "text/plain": [
              "course_name    Data Science\n",
              "duration                  2\n",
              "Name: 0, dtype: object"
            ]
          },
          "metadata": {},
          "execution_count": 21
        }
      ]
    },
    {
      "cell_type": "markdown",
      "source": [
        "Q2. What is the difference between the functions loc and iloc in pandas.DataFrame?"
      ],
      "metadata": {
        "id": "GJFQLJq2lFEW"
      }
    },
    {
      "cell_type": "markdown",
      "source": [
        "loc and iloc are both used in Pandas dataframes to select data based on index or label. The main difference between them is that loc is used to select rows and columns by label, whereas iloc is used to select rows and columns by integer index.\n",
        "\n",
        "loc: This function is primarily label based, but it can also be used with a boolean array. It is used to select rows and columns by label. It can take two arguments: row label and column label. For example, df.loc[1, 'duration'] selects the value in the 'duration' column of the row with label 1.\n",
        "\n",
        "iloc: This function is purely integer index based. It is used to select rows and columns by integer index. It can take two arguments: row index and column index. For example, df.iloc[1, 1] selects the value in the second column of the second row of the dataframe."
      ],
      "metadata": {
        "id": "rqKuPvP-lHU2"
      }
    },
    {
      "cell_type": "markdown",
      "source": [
        "Q3. Reindex the given dataframe using a variable, reindex = [3,0,1,2] and store it in the variable, new_df\n",
        "then find the output for both new_df.loc[2] and new_df.iloc[2]."
      ],
      "metadata": {
        "id": "m-zSPXpMmxVp"
      }
    },
    {
      "cell_type": "code",
      "source": [
        "import pandas as pd\n",
        "course_name = ['Data Science', 'Machine Learning', 'Big Data', 'Data Engineer']\n",
        "\n",
        "duration = [2,3,6,4]\n",
        "\n",
        "df = pd.DataFrame(data = {'course_name' : course_name, 'duration': duration})"
      ],
      "metadata": {
        "id": "wZaQVZlam2tr"
      },
      "execution_count": null,
      "outputs": []
    },
    {
      "cell_type": "code",
      "source": [
        "df.reindex([3,0,1,2])"
      ],
      "metadata": {
        "colab": {
          "base_uri": "https://localhost:8080/",
          "height": 174
        },
        "id": "d_CyizLZnVfv",
        "outputId": "0993e67f-0fa2-4ef0-b7ee-55c0fd3a7e50"
      },
      "execution_count": null,
      "outputs": [
        {
          "output_type": "execute_result",
          "data": {
            "text/plain": [
              "        course_name  duration\n",
              "3     Data Engineer         4\n",
              "0      Data Science         2\n",
              "1  Machine Learning         3\n",
              "2          Big Data         6"
            ],
            "text/html": [
              "\n",
              "  <div id=\"df-1668c557-4b85-4bce-8b2b-ac9373bf6ac3\">\n",
              "    <div class=\"colab-df-container\">\n",
              "      <div>\n",
              "<style scoped>\n",
              "    .dataframe tbody tr th:only-of-type {\n",
              "        vertical-align: middle;\n",
              "    }\n",
              "\n",
              "    .dataframe tbody tr th {\n",
              "        vertical-align: top;\n",
              "    }\n",
              "\n",
              "    .dataframe thead th {\n",
              "        text-align: right;\n",
              "    }\n",
              "</style>\n",
              "<table border=\"1\" class=\"dataframe\">\n",
              "  <thead>\n",
              "    <tr style=\"text-align: right;\">\n",
              "      <th></th>\n",
              "      <th>course_name</th>\n",
              "      <th>duration</th>\n",
              "    </tr>\n",
              "  </thead>\n",
              "  <tbody>\n",
              "    <tr>\n",
              "      <th>3</th>\n",
              "      <td>Data Engineer</td>\n",
              "      <td>4</td>\n",
              "    </tr>\n",
              "    <tr>\n",
              "      <th>0</th>\n",
              "      <td>Data Science</td>\n",
              "      <td>2</td>\n",
              "    </tr>\n",
              "    <tr>\n",
              "      <th>1</th>\n",
              "      <td>Machine Learning</td>\n",
              "      <td>3</td>\n",
              "    </tr>\n",
              "    <tr>\n",
              "      <th>2</th>\n",
              "      <td>Big Data</td>\n",
              "      <td>6</td>\n",
              "    </tr>\n",
              "  </tbody>\n",
              "</table>\n",
              "</div>\n",
              "      <button class=\"colab-df-convert\" onclick=\"convertToInteractive('df-1668c557-4b85-4bce-8b2b-ac9373bf6ac3')\"\n",
              "              title=\"Convert this dataframe to an interactive table.\"\n",
              "              style=\"display:none;\">\n",
              "        \n",
              "  <svg xmlns=\"http://www.w3.org/2000/svg\" height=\"24px\"viewBox=\"0 0 24 24\"\n",
              "       width=\"24px\">\n",
              "    <path d=\"M0 0h24v24H0V0z\" fill=\"none\"/>\n",
              "    <path d=\"M18.56 5.44l.94 2.06.94-2.06 2.06-.94-2.06-.94-.94-2.06-.94 2.06-2.06.94zm-11 1L8.5 8.5l.94-2.06 2.06-.94-2.06-.94L8.5 2.5l-.94 2.06-2.06.94zm10 10l.94 2.06.94-2.06 2.06-.94-2.06-.94-.94-2.06-.94 2.06-2.06.94z\"/><path d=\"M17.41 7.96l-1.37-1.37c-.4-.4-.92-.59-1.43-.59-.52 0-1.04.2-1.43.59L10.3 9.45l-7.72 7.72c-.78.78-.78 2.05 0 2.83L4 21.41c.39.39.9.59 1.41.59.51 0 1.02-.2 1.41-.59l7.78-7.78 2.81-2.81c.8-.78.8-2.07 0-2.86zM5.41 20L4 18.59l7.72-7.72 1.47 1.35L5.41 20z\"/>\n",
              "  </svg>\n",
              "      </button>\n",
              "      \n",
              "  <style>\n",
              "    .colab-df-container {\n",
              "      display:flex;\n",
              "      flex-wrap:wrap;\n",
              "      gap: 12px;\n",
              "    }\n",
              "\n",
              "    .colab-df-convert {\n",
              "      background-color: #E8F0FE;\n",
              "      border: none;\n",
              "      border-radius: 50%;\n",
              "      cursor: pointer;\n",
              "      display: none;\n",
              "      fill: #1967D2;\n",
              "      height: 32px;\n",
              "      padding: 0 0 0 0;\n",
              "      width: 32px;\n",
              "    }\n",
              "\n",
              "    .colab-df-convert:hover {\n",
              "      background-color: #E2EBFA;\n",
              "      box-shadow: 0px 1px 2px rgba(60, 64, 67, 0.3), 0px 1px 3px 1px rgba(60, 64, 67, 0.15);\n",
              "      fill: #174EA6;\n",
              "    }\n",
              "\n",
              "    [theme=dark] .colab-df-convert {\n",
              "      background-color: #3B4455;\n",
              "      fill: #D2E3FC;\n",
              "    }\n",
              "\n",
              "    [theme=dark] .colab-df-convert:hover {\n",
              "      background-color: #434B5C;\n",
              "      box-shadow: 0px 1px 3px 1px rgba(0, 0, 0, 0.15);\n",
              "      filter: drop-shadow(0px 1px 2px rgba(0, 0, 0, 0.3));\n",
              "      fill: #FFFFFF;\n",
              "    }\n",
              "  </style>\n",
              "\n",
              "      <script>\n",
              "        const buttonEl =\n",
              "          document.querySelector('#df-1668c557-4b85-4bce-8b2b-ac9373bf6ac3 button.colab-df-convert');\n",
              "        buttonEl.style.display =\n",
              "          google.colab.kernel.accessAllowed ? 'block' : 'none';\n",
              "\n",
              "        async function convertToInteractive(key) {\n",
              "          const element = document.querySelector('#df-1668c557-4b85-4bce-8b2b-ac9373bf6ac3');\n",
              "          const dataTable =\n",
              "            await google.colab.kernel.invokeFunction('convertToInteractive',\n",
              "                                                     [key], {});\n",
              "          if (!dataTable) return;\n",
              "\n",
              "          const docLinkHtml = 'Like what you see? Visit the ' +\n",
              "            '<a target=\"_blank\" href=https://colab.research.google.com/notebooks/data_table.ipynb>data table notebook</a>'\n",
              "            + ' to learn more about interactive tables.';\n",
              "          element.innerHTML = '';\n",
              "          dataTable['output_type'] = 'display_data';\n",
              "          await google.colab.output.renderOutput(dataTable, element);\n",
              "          const docLink = document.createElement('div');\n",
              "          docLink.innerHTML = docLinkHtml;\n",
              "          element.appendChild(docLink);\n",
              "        }\n",
              "      </script>\n",
              "    </div>\n",
              "  </div>\n",
              "  "
            ]
          },
          "metadata": {},
          "execution_count": 30
        }
      ]
    },
    {
      "cell_type": "code",
      "source": [
        "df.sort_index()"
      ],
      "metadata": {
        "colab": {
          "base_uri": "https://localhost:8080/",
          "height": 174
        },
        "id": "lQ0iUzfnpePf",
        "outputId": "4f9ba02b-06a5-4c02-bd73-679045183dc9"
      },
      "execution_count": null,
      "outputs": [
        {
          "output_type": "execute_result",
          "data": {
            "text/plain": [
              "   A  B   C\n",
              "0  1  5   9\n",
              "1  2  6  10\n",
              "2  3  7  11\n",
              "3  4  8  12"
            ],
            "text/html": [
              "\n",
              "  <div id=\"df-dfa70f8d-6201-469e-9253-f517839a1b0e\">\n",
              "    <div class=\"colab-df-container\">\n",
              "      <div>\n",
              "<style scoped>\n",
              "    .dataframe tbody tr th:only-of-type {\n",
              "        vertical-align: middle;\n",
              "    }\n",
              "\n",
              "    .dataframe tbody tr th {\n",
              "        vertical-align: top;\n",
              "    }\n",
              "\n",
              "    .dataframe thead th {\n",
              "        text-align: right;\n",
              "    }\n",
              "</style>\n",
              "<table border=\"1\" class=\"dataframe\">\n",
              "  <thead>\n",
              "    <tr style=\"text-align: right;\">\n",
              "      <th></th>\n",
              "      <th>A</th>\n",
              "      <th>B</th>\n",
              "      <th>C</th>\n",
              "    </tr>\n",
              "  </thead>\n",
              "  <tbody>\n",
              "    <tr>\n",
              "      <th>0</th>\n",
              "      <td>1</td>\n",
              "      <td>5</td>\n",
              "      <td>9</td>\n",
              "    </tr>\n",
              "    <tr>\n",
              "      <th>1</th>\n",
              "      <td>2</td>\n",
              "      <td>6</td>\n",
              "      <td>10</td>\n",
              "    </tr>\n",
              "    <tr>\n",
              "      <th>2</th>\n",
              "      <td>3</td>\n",
              "      <td>7</td>\n",
              "      <td>11</td>\n",
              "    </tr>\n",
              "    <tr>\n",
              "      <th>3</th>\n",
              "      <td>4</td>\n",
              "      <td>8</td>\n",
              "      <td>12</td>\n",
              "    </tr>\n",
              "  </tbody>\n",
              "</table>\n",
              "</div>\n",
              "      <button class=\"colab-df-convert\" onclick=\"convertToInteractive('df-dfa70f8d-6201-469e-9253-f517839a1b0e')\"\n",
              "              title=\"Convert this dataframe to an interactive table.\"\n",
              "              style=\"display:none;\">\n",
              "        \n",
              "  <svg xmlns=\"http://www.w3.org/2000/svg\" height=\"24px\"viewBox=\"0 0 24 24\"\n",
              "       width=\"24px\">\n",
              "    <path d=\"M0 0h24v24H0V0z\" fill=\"none\"/>\n",
              "    <path d=\"M18.56 5.44l.94 2.06.94-2.06 2.06-.94-2.06-.94-.94-2.06-.94 2.06-2.06.94zm-11 1L8.5 8.5l.94-2.06 2.06-.94-2.06-.94L8.5 2.5l-.94 2.06-2.06.94zm10 10l.94 2.06.94-2.06 2.06-.94-2.06-.94-.94-2.06-.94 2.06-2.06.94z\"/><path d=\"M17.41 7.96l-1.37-1.37c-.4-.4-.92-.59-1.43-.59-.52 0-1.04.2-1.43.59L10.3 9.45l-7.72 7.72c-.78.78-.78 2.05 0 2.83L4 21.41c.39.39.9.59 1.41.59.51 0 1.02-.2 1.41-.59l7.78-7.78 2.81-2.81c.8-.78.8-2.07 0-2.86zM5.41 20L4 18.59l7.72-7.72 1.47 1.35L5.41 20z\"/>\n",
              "  </svg>\n",
              "      </button>\n",
              "      \n",
              "  <style>\n",
              "    .colab-df-container {\n",
              "      display:flex;\n",
              "      flex-wrap:wrap;\n",
              "      gap: 12px;\n",
              "    }\n",
              "\n",
              "    .colab-df-convert {\n",
              "      background-color: #E8F0FE;\n",
              "      border: none;\n",
              "      border-radius: 50%;\n",
              "      cursor: pointer;\n",
              "      display: none;\n",
              "      fill: #1967D2;\n",
              "      height: 32px;\n",
              "      padding: 0 0 0 0;\n",
              "      width: 32px;\n",
              "    }\n",
              "\n",
              "    .colab-df-convert:hover {\n",
              "      background-color: #E2EBFA;\n",
              "      box-shadow: 0px 1px 2px rgba(60, 64, 67, 0.3), 0px 1px 3px 1px rgba(60, 64, 67, 0.15);\n",
              "      fill: #174EA6;\n",
              "    }\n",
              "\n",
              "    [theme=dark] .colab-df-convert {\n",
              "      background-color: #3B4455;\n",
              "      fill: #D2E3FC;\n",
              "    }\n",
              "\n",
              "    [theme=dark] .colab-df-convert:hover {\n",
              "      background-color: #434B5C;\n",
              "      box-shadow: 0px 1px 3px 1px rgba(0, 0, 0, 0.15);\n",
              "      filter: drop-shadow(0px 1px 2px rgba(0, 0, 0, 0.3));\n",
              "      fill: #FFFFFF;\n",
              "    }\n",
              "  </style>\n",
              "\n",
              "      <script>\n",
              "        const buttonEl =\n",
              "          document.querySelector('#df-dfa70f8d-6201-469e-9253-f517839a1b0e button.colab-df-convert');\n",
              "        buttonEl.style.display =\n",
              "          google.colab.kernel.accessAllowed ? 'block' : 'none';\n",
              "\n",
              "        async function convertToInteractive(key) {\n",
              "          const element = document.querySelector('#df-dfa70f8d-6201-469e-9253-f517839a1b0e');\n",
              "          const dataTable =\n",
              "            await google.colab.kernel.invokeFunction('convertToInteractive',\n",
              "                                                     [key], {});\n",
              "          if (!dataTable) return;\n",
              "\n",
              "          const docLinkHtml = 'Like what you see? Visit the ' +\n",
              "            '<a target=\"_blank\" href=https://colab.research.google.com/notebooks/data_table.ipynb>data table notebook</a>'\n",
              "            + ' to learn more about interactive tables.';\n",
              "          element.innerHTML = '';\n",
              "          dataTable['output_type'] = 'display_data';\n",
              "          await google.colab.output.renderOutput(dataTable, element);\n",
              "          const docLink = document.createElement('div');\n",
              "          docLink.innerHTML = docLinkHtml;\n",
              "          element.appendChild(docLink);\n",
              "        }\n",
              "      </script>\n",
              "    </div>\n",
              "  </div>\n",
              "  "
            ]
          },
          "metadata": {},
          "execution_count": 54
        }
      ]
    },
    {
      "cell_type": "code",
      "source": [
        "new_df = df.reindex([3,0,1,2])\n",
        "new_df"
      ],
      "metadata": {
        "colab": {
          "base_uri": "https://localhost:8080/",
          "height": 174
        },
        "id": "jYNUP9vYuByy",
        "outputId": "86b3e4e3-c8c6-4ccd-be0e-bc60593db4d5"
      },
      "execution_count": null,
      "outputs": [
        {
          "output_type": "execute_result",
          "data": {
            "text/plain": [
              "   A  B   C\n",
              "3  4  8  12\n",
              "0  1  5   9\n",
              "1  2  6  10\n",
              "2  3  7  11"
            ],
            "text/html": [
              "\n",
              "  <div id=\"df-935e60dc-02b7-483a-bd6c-8c7ce1bd0906\">\n",
              "    <div class=\"colab-df-container\">\n",
              "      <div>\n",
              "<style scoped>\n",
              "    .dataframe tbody tr th:only-of-type {\n",
              "        vertical-align: middle;\n",
              "    }\n",
              "\n",
              "    .dataframe tbody tr th {\n",
              "        vertical-align: top;\n",
              "    }\n",
              "\n",
              "    .dataframe thead th {\n",
              "        text-align: right;\n",
              "    }\n",
              "</style>\n",
              "<table border=\"1\" class=\"dataframe\">\n",
              "  <thead>\n",
              "    <tr style=\"text-align: right;\">\n",
              "      <th></th>\n",
              "      <th>A</th>\n",
              "      <th>B</th>\n",
              "      <th>C</th>\n",
              "    </tr>\n",
              "  </thead>\n",
              "  <tbody>\n",
              "    <tr>\n",
              "      <th>3</th>\n",
              "      <td>4</td>\n",
              "      <td>8</td>\n",
              "      <td>12</td>\n",
              "    </tr>\n",
              "    <tr>\n",
              "      <th>0</th>\n",
              "      <td>1</td>\n",
              "      <td>5</td>\n",
              "      <td>9</td>\n",
              "    </tr>\n",
              "    <tr>\n",
              "      <th>1</th>\n",
              "      <td>2</td>\n",
              "      <td>6</td>\n",
              "      <td>10</td>\n",
              "    </tr>\n",
              "    <tr>\n",
              "      <th>2</th>\n",
              "      <td>3</td>\n",
              "      <td>7</td>\n",
              "      <td>11</td>\n",
              "    </tr>\n",
              "  </tbody>\n",
              "</table>\n",
              "</div>\n",
              "      <button class=\"colab-df-convert\" onclick=\"convertToInteractive('df-935e60dc-02b7-483a-bd6c-8c7ce1bd0906')\"\n",
              "              title=\"Convert this dataframe to an interactive table.\"\n",
              "              style=\"display:none;\">\n",
              "        \n",
              "  <svg xmlns=\"http://www.w3.org/2000/svg\" height=\"24px\"viewBox=\"0 0 24 24\"\n",
              "       width=\"24px\">\n",
              "    <path d=\"M0 0h24v24H0V0z\" fill=\"none\"/>\n",
              "    <path d=\"M18.56 5.44l.94 2.06.94-2.06 2.06-.94-2.06-.94-.94-2.06-.94 2.06-2.06.94zm-11 1L8.5 8.5l.94-2.06 2.06-.94-2.06-.94L8.5 2.5l-.94 2.06-2.06.94zm10 10l.94 2.06.94-2.06 2.06-.94-2.06-.94-.94-2.06-.94 2.06-2.06.94z\"/><path d=\"M17.41 7.96l-1.37-1.37c-.4-.4-.92-.59-1.43-.59-.52 0-1.04.2-1.43.59L10.3 9.45l-7.72 7.72c-.78.78-.78 2.05 0 2.83L4 21.41c.39.39.9.59 1.41.59.51 0 1.02-.2 1.41-.59l7.78-7.78 2.81-2.81c.8-.78.8-2.07 0-2.86zM5.41 20L4 18.59l7.72-7.72 1.47 1.35L5.41 20z\"/>\n",
              "  </svg>\n",
              "      </button>\n",
              "      \n",
              "  <style>\n",
              "    .colab-df-container {\n",
              "      display:flex;\n",
              "      flex-wrap:wrap;\n",
              "      gap: 12px;\n",
              "    }\n",
              "\n",
              "    .colab-df-convert {\n",
              "      background-color: #E8F0FE;\n",
              "      border: none;\n",
              "      border-radius: 50%;\n",
              "      cursor: pointer;\n",
              "      display: none;\n",
              "      fill: #1967D2;\n",
              "      height: 32px;\n",
              "      padding: 0 0 0 0;\n",
              "      width: 32px;\n",
              "    }\n",
              "\n",
              "    .colab-df-convert:hover {\n",
              "      background-color: #E2EBFA;\n",
              "      box-shadow: 0px 1px 2px rgba(60, 64, 67, 0.3), 0px 1px 3px 1px rgba(60, 64, 67, 0.15);\n",
              "      fill: #174EA6;\n",
              "    }\n",
              "\n",
              "    [theme=dark] .colab-df-convert {\n",
              "      background-color: #3B4455;\n",
              "      fill: #D2E3FC;\n",
              "    }\n",
              "\n",
              "    [theme=dark] .colab-df-convert:hover {\n",
              "      background-color: #434B5C;\n",
              "      box-shadow: 0px 1px 3px 1px rgba(0, 0, 0, 0.15);\n",
              "      filter: drop-shadow(0px 1px 2px rgba(0, 0, 0, 0.3));\n",
              "      fill: #FFFFFF;\n",
              "    }\n",
              "  </style>\n",
              "\n",
              "      <script>\n",
              "        const buttonEl =\n",
              "          document.querySelector('#df-935e60dc-02b7-483a-bd6c-8c7ce1bd0906 button.colab-df-convert');\n",
              "        buttonEl.style.display =\n",
              "          google.colab.kernel.accessAllowed ? 'block' : 'none';\n",
              "\n",
              "        async function convertToInteractive(key) {\n",
              "          const element = document.querySelector('#df-935e60dc-02b7-483a-bd6c-8c7ce1bd0906');\n",
              "          const dataTable =\n",
              "            await google.colab.kernel.invokeFunction('convertToInteractive',\n",
              "                                                     [key], {});\n",
              "          if (!dataTable) return;\n",
              "\n",
              "          const docLinkHtml = 'Like what you see? Visit the ' +\n",
              "            '<a target=\"_blank\" href=https://colab.research.google.com/notebooks/data_table.ipynb>data table notebook</a>'\n",
              "            + ' to learn more about interactive tables.';\n",
              "          element.innerHTML = '';\n",
              "          dataTable['output_type'] = 'display_data';\n",
              "          await google.colab.output.renderOutput(dataTable, element);\n",
              "          const docLink = document.createElement('div');\n",
              "          docLink.innerHTML = docLinkHtml;\n",
              "          element.appendChild(docLink);\n",
              "        }\n",
              "      </script>\n",
              "    </div>\n",
              "  </div>\n",
              "  "
            ]
          },
          "metadata": {},
          "execution_count": 58
        }
      ]
    },
    {
      "cell_type": "code",
      "source": [
        "new_df.loc[2]"
      ],
      "metadata": {
        "colab": {
          "base_uri": "https://localhost:8080/"
        },
        "id": "aH3CNT74qFzf",
        "outputId": "26d35a3d-e489-42ef-ab2c-a956ff08bba0"
      },
      "execution_count": null,
      "outputs": [
        {
          "output_type": "execute_result",
          "data": {
            "text/plain": [
              "A     3\n",
              "B     7\n",
              "C    11\n",
              "Name: 2, dtype: int64"
            ]
          },
          "metadata": {},
          "execution_count": 56
        }
      ]
    },
    {
      "cell_type": "code",
      "source": [
        "new_df.iloc[2]"
      ],
      "metadata": {
        "colab": {
          "base_uri": "https://localhost:8080/"
        },
        "id": "oRap9jWXrMGS",
        "outputId": "008947a6-9e5a-4e52-d369-7b046a9f75c2"
      },
      "execution_count": null,
      "outputs": [
        {
          "output_type": "execute_result",
          "data": {
            "text/plain": [
              "A     2\n",
              "B     6\n",
              "C    10\n",
              "Name: 1, dtype: int64"
            ]
          },
          "metadata": {},
          "execution_count": 57
        }
      ]
    },
    {
      "cell_type": "markdown",
      "source": [
        "The output for new_df.loc[2] will be the third row of the dataframe (with index label 1), since loc is used for selecting rows by label. The output for new_df.iloc[2] will be the second row of the dataframe (with integer index 2), since iloc is used for selecting rows by integer index."
      ],
      "metadata": {
        "id": "Jf0XObOVuWb_"
      }
    },
    {
      "cell_type": "markdown",
      "source": [
        "Q4. Write a code to find the following statistical measurements for the above dataframe df1:\n",
        "(i) mean of each and every column present in the dataframe.\n",
        "(ii) standard deviation of column, ‘column_2’"
      ],
      "metadata": {
        "id": "V1ei2c0Zuevn"
      }
    },
    {
      "cell_type": "code",
      "source": [
        "import pandas as pd\n",
        "import numpy as np\n",
        "\n",
        "columns = ['column_1', 'column_2', 'column_3', 'column_4', 'column_5', 'column_6']\n",
        "\n",
        "indices = [1,2,3,4,5,6]\n",
        "\n",
        "df1 = pd.DataFrame(np.random.rand(6,6), columns = columns, index = indices)"
      ],
      "metadata": {
        "id": "m2KHwu8Qu5aJ"
      },
      "execution_count": null,
      "outputs": []
    },
    {
      "cell_type": "code",
      "source": [
        "df1"
      ],
      "metadata": {
        "colab": {
          "base_uri": "https://localhost:8080/",
          "height": 237
        },
        "id": "4HQCUooQvVY9",
        "outputId": "47559811-5ebd-4e4e-b639-024f6ce14d06"
      },
      "execution_count": null,
      "outputs": [
        {
          "output_type": "execute_result",
          "data": {
            "text/plain": [
              "   column_1  column_2  column_3  column_4  column_5  column_6\n",
              "1  0.977828  0.947998  0.878190  0.636918  0.205062  0.108810\n",
              "2  0.799824  0.043593  0.594414  0.657372  0.119948  0.064109\n",
              "3  0.780805  0.125323  0.675332  0.154675  0.970173  0.040978\n",
              "4  0.761271  0.338561  0.624313  0.805648  0.286386  0.734858\n",
              "5  0.656161  0.775702  0.557085  0.479318  0.911037  0.377698\n",
              "6  0.422280  0.859944  0.416107  0.085732  0.885609  0.443934"
            ],
            "text/html": [
              "\n",
              "  <div id=\"df-bc854633-7892-4e49-8664-c86a9d02478d\">\n",
              "    <div class=\"colab-df-container\">\n",
              "      <div>\n",
              "<style scoped>\n",
              "    .dataframe tbody tr th:only-of-type {\n",
              "        vertical-align: middle;\n",
              "    }\n",
              "\n",
              "    .dataframe tbody tr th {\n",
              "        vertical-align: top;\n",
              "    }\n",
              "\n",
              "    .dataframe thead th {\n",
              "        text-align: right;\n",
              "    }\n",
              "</style>\n",
              "<table border=\"1\" class=\"dataframe\">\n",
              "  <thead>\n",
              "    <tr style=\"text-align: right;\">\n",
              "      <th></th>\n",
              "      <th>column_1</th>\n",
              "      <th>column_2</th>\n",
              "      <th>column_3</th>\n",
              "      <th>column_4</th>\n",
              "      <th>column_5</th>\n",
              "      <th>column_6</th>\n",
              "    </tr>\n",
              "  </thead>\n",
              "  <tbody>\n",
              "    <tr>\n",
              "      <th>1</th>\n",
              "      <td>0.977828</td>\n",
              "      <td>0.947998</td>\n",
              "      <td>0.878190</td>\n",
              "      <td>0.636918</td>\n",
              "      <td>0.205062</td>\n",
              "      <td>0.108810</td>\n",
              "    </tr>\n",
              "    <tr>\n",
              "      <th>2</th>\n",
              "      <td>0.799824</td>\n",
              "      <td>0.043593</td>\n",
              "      <td>0.594414</td>\n",
              "      <td>0.657372</td>\n",
              "      <td>0.119948</td>\n",
              "      <td>0.064109</td>\n",
              "    </tr>\n",
              "    <tr>\n",
              "      <th>3</th>\n",
              "      <td>0.780805</td>\n",
              "      <td>0.125323</td>\n",
              "      <td>0.675332</td>\n",
              "      <td>0.154675</td>\n",
              "      <td>0.970173</td>\n",
              "      <td>0.040978</td>\n",
              "    </tr>\n",
              "    <tr>\n",
              "      <th>4</th>\n",
              "      <td>0.761271</td>\n",
              "      <td>0.338561</td>\n",
              "      <td>0.624313</td>\n",
              "      <td>0.805648</td>\n",
              "      <td>0.286386</td>\n",
              "      <td>0.734858</td>\n",
              "    </tr>\n",
              "    <tr>\n",
              "      <th>5</th>\n",
              "      <td>0.656161</td>\n",
              "      <td>0.775702</td>\n",
              "      <td>0.557085</td>\n",
              "      <td>0.479318</td>\n",
              "      <td>0.911037</td>\n",
              "      <td>0.377698</td>\n",
              "    </tr>\n",
              "    <tr>\n",
              "      <th>6</th>\n",
              "      <td>0.422280</td>\n",
              "      <td>0.859944</td>\n",
              "      <td>0.416107</td>\n",
              "      <td>0.085732</td>\n",
              "      <td>0.885609</td>\n",
              "      <td>0.443934</td>\n",
              "    </tr>\n",
              "  </tbody>\n",
              "</table>\n",
              "</div>\n",
              "      <button class=\"colab-df-convert\" onclick=\"convertToInteractive('df-bc854633-7892-4e49-8664-c86a9d02478d')\"\n",
              "              title=\"Convert this dataframe to an interactive table.\"\n",
              "              style=\"display:none;\">\n",
              "        \n",
              "  <svg xmlns=\"http://www.w3.org/2000/svg\" height=\"24px\"viewBox=\"0 0 24 24\"\n",
              "       width=\"24px\">\n",
              "    <path d=\"M0 0h24v24H0V0z\" fill=\"none\"/>\n",
              "    <path d=\"M18.56 5.44l.94 2.06.94-2.06 2.06-.94-2.06-.94-.94-2.06-.94 2.06-2.06.94zm-11 1L8.5 8.5l.94-2.06 2.06-.94-2.06-.94L8.5 2.5l-.94 2.06-2.06.94zm10 10l.94 2.06.94-2.06 2.06-.94-2.06-.94-.94-2.06-.94 2.06-2.06.94z\"/><path d=\"M17.41 7.96l-1.37-1.37c-.4-.4-.92-.59-1.43-.59-.52 0-1.04.2-1.43.59L10.3 9.45l-7.72 7.72c-.78.78-.78 2.05 0 2.83L4 21.41c.39.39.9.59 1.41.59.51 0 1.02-.2 1.41-.59l7.78-7.78 2.81-2.81c.8-.78.8-2.07 0-2.86zM5.41 20L4 18.59l7.72-7.72 1.47 1.35L5.41 20z\"/>\n",
              "  </svg>\n",
              "      </button>\n",
              "      \n",
              "  <style>\n",
              "    .colab-df-container {\n",
              "      display:flex;\n",
              "      flex-wrap:wrap;\n",
              "      gap: 12px;\n",
              "    }\n",
              "\n",
              "    .colab-df-convert {\n",
              "      background-color: #E8F0FE;\n",
              "      border: none;\n",
              "      border-radius: 50%;\n",
              "      cursor: pointer;\n",
              "      display: none;\n",
              "      fill: #1967D2;\n",
              "      height: 32px;\n",
              "      padding: 0 0 0 0;\n",
              "      width: 32px;\n",
              "    }\n",
              "\n",
              "    .colab-df-convert:hover {\n",
              "      background-color: #E2EBFA;\n",
              "      box-shadow: 0px 1px 2px rgba(60, 64, 67, 0.3), 0px 1px 3px 1px rgba(60, 64, 67, 0.15);\n",
              "      fill: #174EA6;\n",
              "    }\n",
              "\n",
              "    [theme=dark] .colab-df-convert {\n",
              "      background-color: #3B4455;\n",
              "      fill: #D2E3FC;\n",
              "    }\n",
              "\n",
              "    [theme=dark] .colab-df-convert:hover {\n",
              "      background-color: #434B5C;\n",
              "      box-shadow: 0px 1px 3px 1px rgba(0, 0, 0, 0.15);\n",
              "      filter: drop-shadow(0px 1px 2px rgba(0, 0, 0, 0.3));\n",
              "      fill: #FFFFFF;\n",
              "    }\n",
              "  </style>\n",
              "\n",
              "      <script>\n",
              "        const buttonEl =\n",
              "          document.querySelector('#df-bc854633-7892-4e49-8664-c86a9d02478d button.colab-df-convert');\n",
              "        buttonEl.style.display =\n",
              "          google.colab.kernel.accessAllowed ? 'block' : 'none';\n",
              "\n",
              "        async function convertToInteractive(key) {\n",
              "          const element = document.querySelector('#df-bc854633-7892-4e49-8664-c86a9d02478d');\n",
              "          const dataTable =\n",
              "            await google.colab.kernel.invokeFunction('convertToInteractive',\n",
              "                                                     [key], {});\n",
              "          if (!dataTable) return;\n",
              "\n",
              "          const docLinkHtml = 'Like what you see? Visit the ' +\n",
              "            '<a target=\"_blank\" href=https://colab.research.google.com/notebooks/data_table.ipynb>data table notebook</a>'\n",
              "            + ' to learn more about interactive tables.';\n",
              "          element.innerHTML = '';\n",
              "          dataTable['output_type'] = 'display_data';\n",
              "          await google.colab.output.renderOutput(dataTable, element);\n",
              "          const docLink = document.createElement('div');\n",
              "          docLink.innerHTML = docLinkHtml;\n",
              "          element.appendChild(docLink);\n",
              "        }\n",
              "      </script>\n",
              "    </div>\n",
              "  </div>\n",
              "  "
            ]
          },
          "metadata": {},
          "execution_count": 61
        }
      ]
    },
    {
      "cell_type": "code",
      "source": [
        "df1.mean() #(i) mean of each and every column present in the dataframe."
      ],
      "metadata": {
        "colab": {
          "base_uri": "https://localhost:8080/"
        },
        "id": "32nhlOhtvXXH",
        "outputId": "e61fe07b-8673-4c25-cc09-52db05d10f9a"
      },
      "execution_count": null,
      "outputs": [
        {
          "output_type": "execute_result",
          "data": {
            "text/plain": [
              "column_1    0.733028\n",
              "column_2    0.515187\n",
              "column_3    0.624240\n",
              "column_4    0.469944\n",
              "column_5    0.563036\n",
              "column_6    0.295065\n",
              "dtype: float64"
            ]
          },
          "metadata": {},
          "execution_count": 63
        }
      ]
    },
    {
      "cell_type": "code",
      "source": [
        "df1['column_2'].std()  #(ii) standard deviation of column, ‘column_2’"
      ],
      "metadata": {
        "colab": {
          "base_uri": "https://localhost:8080/"
        },
        "id": "edIS5jD_vyuR",
        "outputId": "1fe7123b-fe7e-4af9-d0b5-6a3aa2b112be"
      },
      "execution_count": null,
      "outputs": [
        {
          "output_type": "execute_result",
          "data": {
            "text/plain": [
              "0.39487781788202675"
            ]
          },
          "metadata": {},
          "execution_count": 64
        }
      ]
    },
    {
      "cell_type": "markdown",
      "source": [
        "Q5. Replace the data present in the second row of column, ‘column_2’ by a string variable then find the\n",
        "mean of column, column_2.\n",
        "If you are getting errors in executing it then explain why.\n",
        "[Hint: To replace the data use df1.loc[] and equate this to string data of your choice.]"
      ],
      "metadata": {
        "id": "X-5OJFA8xxmg"
      }
    },
    {
      "cell_type": "code",
      "source": [
        "import pandas as pd\n",
        "import numpy as np\n",
        "\n",
        "columns = ['column_1', 'column_2', 'column_3', 'column_4', 'column_5', 'column_6']\n",
        "\n",
        "\n",
        "indices = [1,2,3,4,5,6]\n",
        "\n",
        "df3 = pd.DataFrame(np.random.rand(6,6), columns = columns, index = indices)\n",
        "\n",
        "\n",
        "\n"
      ],
      "metadata": {
        "id": "asSlvq1Zx5Lz"
      },
      "execution_count": null,
      "outputs": []
    },
    {
      "cell_type": "code",
      "source": [
        "df3.loc[2,'column_2'] = 'string variable'"
      ],
      "metadata": {
        "id": "CWS1fVpD05k-"
      },
      "execution_count": null,
      "outputs": []
    },
    {
      "cell_type": "code",
      "source": [
        "df3"
      ],
      "metadata": {
        "colab": {
          "base_uri": "https://localhost:8080/",
          "height": 237
        },
        "id": "DSGpg6dm9HVs",
        "outputId": "437524e1-d0d6-48a9-99cf-684ab1387975"
      },
      "execution_count": null,
      "outputs": [
        {
          "output_type": "execute_result",
          "data": {
            "text/plain": [
              "   column_1         column_2  column_3  column_4  column_5  column_6\n",
              "1  0.476219         0.877653  0.171770  0.456093  0.193607  0.983665\n",
              "2  0.664858  string variable  0.106719  0.478325  0.529370  0.886835\n",
              "3  0.441873         0.933772  0.432646  0.654775  0.106392  0.476399\n",
              "4  0.339624          0.66005  0.125150  0.425779  0.281612  0.786762\n",
              "5  0.947981         0.433401  0.530404  0.825426  0.274953  0.255466\n",
              "6  0.182739         0.082663  0.971279  0.278486  0.667241  0.111566"
            ],
            "text/html": [
              "\n",
              "  <div id=\"df-c6f1b757-70aa-4f1e-917f-7a1c9dc3471d\">\n",
              "    <div class=\"colab-df-container\">\n",
              "      <div>\n",
              "<style scoped>\n",
              "    .dataframe tbody tr th:only-of-type {\n",
              "        vertical-align: middle;\n",
              "    }\n",
              "\n",
              "    .dataframe tbody tr th {\n",
              "        vertical-align: top;\n",
              "    }\n",
              "\n",
              "    .dataframe thead th {\n",
              "        text-align: right;\n",
              "    }\n",
              "</style>\n",
              "<table border=\"1\" class=\"dataframe\">\n",
              "  <thead>\n",
              "    <tr style=\"text-align: right;\">\n",
              "      <th></th>\n",
              "      <th>column_1</th>\n",
              "      <th>column_2</th>\n",
              "      <th>column_3</th>\n",
              "      <th>column_4</th>\n",
              "      <th>column_5</th>\n",
              "      <th>column_6</th>\n",
              "    </tr>\n",
              "  </thead>\n",
              "  <tbody>\n",
              "    <tr>\n",
              "      <th>1</th>\n",
              "      <td>0.476219</td>\n",
              "      <td>0.877653</td>\n",
              "      <td>0.171770</td>\n",
              "      <td>0.456093</td>\n",
              "      <td>0.193607</td>\n",
              "      <td>0.983665</td>\n",
              "    </tr>\n",
              "    <tr>\n",
              "      <th>2</th>\n",
              "      <td>0.664858</td>\n",
              "      <td>string variable</td>\n",
              "      <td>0.106719</td>\n",
              "      <td>0.478325</td>\n",
              "      <td>0.529370</td>\n",
              "      <td>0.886835</td>\n",
              "    </tr>\n",
              "    <tr>\n",
              "      <th>3</th>\n",
              "      <td>0.441873</td>\n",
              "      <td>0.933772</td>\n",
              "      <td>0.432646</td>\n",
              "      <td>0.654775</td>\n",
              "      <td>0.106392</td>\n",
              "      <td>0.476399</td>\n",
              "    </tr>\n",
              "    <tr>\n",
              "      <th>4</th>\n",
              "      <td>0.339624</td>\n",
              "      <td>0.66005</td>\n",
              "      <td>0.125150</td>\n",
              "      <td>0.425779</td>\n",
              "      <td>0.281612</td>\n",
              "      <td>0.786762</td>\n",
              "    </tr>\n",
              "    <tr>\n",
              "      <th>5</th>\n",
              "      <td>0.947981</td>\n",
              "      <td>0.433401</td>\n",
              "      <td>0.530404</td>\n",
              "      <td>0.825426</td>\n",
              "      <td>0.274953</td>\n",
              "      <td>0.255466</td>\n",
              "    </tr>\n",
              "    <tr>\n",
              "      <th>6</th>\n",
              "      <td>0.182739</td>\n",
              "      <td>0.082663</td>\n",
              "      <td>0.971279</td>\n",
              "      <td>0.278486</td>\n",
              "      <td>0.667241</td>\n",
              "      <td>0.111566</td>\n",
              "    </tr>\n",
              "  </tbody>\n",
              "</table>\n",
              "</div>\n",
              "      <button class=\"colab-df-convert\" onclick=\"convertToInteractive('df-c6f1b757-70aa-4f1e-917f-7a1c9dc3471d')\"\n",
              "              title=\"Convert this dataframe to an interactive table.\"\n",
              "              style=\"display:none;\">\n",
              "        \n",
              "  <svg xmlns=\"http://www.w3.org/2000/svg\" height=\"24px\"viewBox=\"0 0 24 24\"\n",
              "       width=\"24px\">\n",
              "    <path d=\"M0 0h24v24H0V0z\" fill=\"none\"/>\n",
              "    <path d=\"M18.56 5.44l.94 2.06.94-2.06 2.06-.94-2.06-.94-.94-2.06-.94 2.06-2.06.94zm-11 1L8.5 8.5l.94-2.06 2.06-.94-2.06-.94L8.5 2.5l-.94 2.06-2.06.94zm10 10l.94 2.06.94-2.06 2.06-.94-2.06-.94-.94-2.06-.94 2.06-2.06.94z\"/><path d=\"M17.41 7.96l-1.37-1.37c-.4-.4-.92-.59-1.43-.59-.52 0-1.04.2-1.43.59L10.3 9.45l-7.72 7.72c-.78.78-.78 2.05 0 2.83L4 21.41c.39.39.9.59 1.41.59.51 0 1.02-.2 1.41-.59l7.78-7.78 2.81-2.81c.8-.78.8-2.07 0-2.86zM5.41 20L4 18.59l7.72-7.72 1.47 1.35L5.41 20z\"/>\n",
              "  </svg>\n",
              "      </button>\n",
              "      \n",
              "  <style>\n",
              "    .colab-df-container {\n",
              "      display:flex;\n",
              "      flex-wrap:wrap;\n",
              "      gap: 12px;\n",
              "    }\n",
              "\n",
              "    .colab-df-convert {\n",
              "      background-color: #E8F0FE;\n",
              "      border: none;\n",
              "      border-radius: 50%;\n",
              "      cursor: pointer;\n",
              "      display: none;\n",
              "      fill: #1967D2;\n",
              "      height: 32px;\n",
              "      padding: 0 0 0 0;\n",
              "      width: 32px;\n",
              "    }\n",
              "\n",
              "    .colab-df-convert:hover {\n",
              "      background-color: #E2EBFA;\n",
              "      box-shadow: 0px 1px 2px rgba(60, 64, 67, 0.3), 0px 1px 3px 1px rgba(60, 64, 67, 0.15);\n",
              "      fill: #174EA6;\n",
              "    }\n",
              "\n",
              "    [theme=dark] .colab-df-convert {\n",
              "      background-color: #3B4455;\n",
              "      fill: #D2E3FC;\n",
              "    }\n",
              "\n",
              "    [theme=dark] .colab-df-convert:hover {\n",
              "      background-color: #434B5C;\n",
              "      box-shadow: 0px 1px 3px 1px rgba(0, 0, 0, 0.15);\n",
              "      filter: drop-shadow(0px 1px 2px rgba(0, 0, 0, 0.3));\n",
              "      fill: #FFFFFF;\n",
              "    }\n",
              "  </style>\n",
              "\n",
              "      <script>\n",
              "        const buttonEl =\n",
              "          document.querySelector('#df-c6f1b757-70aa-4f1e-917f-7a1c9dc3471d button.colab-df-convert');\n",
              "        buttonEl.style.display =\n",
              "          google.colab.kernel.accessAllowed ? 'block' : 'none';\n",
              "\n",
              "        async function convertToInteractive(key) {\n",
              "          const element = document.querySelector('#df-c6f1b757-70aa-4f1e-917f-7a1c9dc3471d');\n",
              "          const dataTable =\n",
              "            await google.colab.kernel.invokeFunction('convertToInteractive',\n",
              "                                                     [key], {});\n",
              "          if (!dataTable) return;\n",
              "\n",
              "          const docLinkHtml = 'Like what you see? Visit the ' +\n",
              "            '<a target=\"_blank\" href=https://colab.research.google.com/notebooks/data_table.ipynb>data table notebook</a>'\n",
              "            + ' to learn more about interactive tables.';\n",
              "          element.innerHTML = '';\n",
              "          dataTable['output_type'] = 'display_data';\n",
              "          await google.colab.output.renderOutput(dataTable, element);\n",
              "          const docLink = document.createElement('div');\n",
              "          docLink.innerHTML = docLinkHtml;\n",
              "          element.appendChild(docLink);\n",
              "        }\n",
              "      </script>\n",
              "    </div>\n",
              "  </div>\n",
              "  "
            ]
          },
          "metadata": {},
          "execution_count": 36
        }
      ]
    },
    {
      "cell_type": "code",
      "source": [
        "df3['column_2'] = pd.to_numeric(df3['column_2'] , errors ='coerce')"
      ],
      "metadata": {
        "id": "JqXbJnYU_Tev"
      },
      "execution_count": null,
      "outputs": []
    },
    {
      "cell_type": "code",
      "source": [
        "df3['column_2'].mean()"
      ],
      "metadata": {
        "colab": {
          "base_uri": "https://localhost:8080/"
        },
        "id": "JLniXWcb_05s",
        "outputId": "082393a1-8704-4df5-c095-865bfea0817a"
      },
      "execution_count": null,
      "outputs": [
        {
          "output_type": "execute_result",
          "data": {
            "text/plain": [
              "0.5975080168380507"
            ]
          },
          "metadata": {},
          "execution_count": 38
        }
      ]
    },
    {
      "cell_type": "markdown",
      "source": [
        "Q6. What do you understand about the windows function in pandas and list the types of windows\n",
        "functions?"
      ],
      "metadata": {
        "id": "w6__zYp7BJY7"
      }
    },
    {
      "cell_type": "markdown",
      "source": [
        "In pandas, a window function is a function that performs a calculation over a sliding window of data. The window function can be applied to a series or a dataframe column and allows you to perform calculations on a rolling basis over a specified window size.\n",
        "\n",
        "There are several types of window functions in pandas. Here are some of the common types:\n",
        "\n",
        "Rolling window functions: These functions operate on a rolling window of data with a specified window size and return a new series or dataframe. Some common rolling window functions include rolling(), expanding(), and ewm().\n",
        "\n",
        "Aggregation window functions: These functions operate on a window of data and return a single aggregated value. Some common aggregation window functions include sum(), mean(), max(), and min().\n",
        "\n",
        "Transformation window functions: These functions perform a calculation on a window of data and return a new series or dataframe with the same shape as the original data. Some common transformation window functions include shift(), diff(), and pct_change().\n",
        "\n",
        "Window-apply functions: These functions apply a custom function to a window of data and return the result. Some common window-apply functions include apply(), aggregate(), and transform()."
      ],
      "metadata": {
        "id": "UupaGukCBK6M"
      }
    },
    {
      "cell_type": "markdown",
      "source": [
        "Q7. Write a code to print only the current month and year at the time of answering this question."
      ],
      "metadata": {
        "id": "8LAREg38F_8c"
      }
    },
    {
      "cell_type": "code",
      "source": [
        "import pandas as pd\n",
        "now = pd.Timestamp('now')"
      ],
      "metadata": {
        "id": "8jCL5FtyFT93"
      },
      "execution_count": null,
      "outputs": []
    },
    {
      "cell_type": "code",
      "source": [
        "current_month = now.month"
      ],
      "metadata": {
        "id": "s69Q0dfvGPhV"
      },
      "execution_count": null,
      "outputs": []
    },
    {
      "cell_type": "code",
      "source": [
        "current_year = now.year"
      ],
      "metadata": {
        "id": "rhgjBPonHblh"
      },
      "execution_count": null,
      "outputs": []
    },
    {
      "cell_type": "code",
      "source": [
        "print(f\"The current month and year:{current_month}-{current_year}\")"
      ],
      "metadata": {
        "colab": {
          "base_uri": "https://localhost:8080/"
        },
        "id": "HdViUB66HjvI",
        "outputId": "37543727-6896-4ee6-e895-a5062b50f923"
      },
      "execution_count": null,
      "outputs": [
        {
          "output_type": "stream",
          "name": "stdout",
          "text": [
            "The current month and year:3-2023\n"
          ]
        }
      ]
    },
    {
      "cell_type": "code",
      "source": [
        "pd.Timestamp('now').year"
      ],
      "metadata": {
        "colab": {
          "base_uri": "https://localhost:8080/"
        },
        "id": "dQnC0UF4INIb",
        "outputId": "6be45c26-62b1-4842-e0bc-14ee3504fe95"
      },
      "execution_count": null,
      "outputs": [
        {
          "output_type": "execute_result",
          "data": {
            "text/plain": [
              "2023"
            ]
          },
          "metadata": {},
          "execution_count": 69
        }
      ]
    },
    {
      "cell_type": "markdown",
      "source": [
        "Q8. Write a Python program that takes in two dates as input (in the format YYYY-MM-DD) and\n",
        "calculates the difference between them in days, hours, and minutes using Pandas time delta. The\n",
        "program should prompt the user to enter the dates and display the result."
      ],
      "metadata": {
        "id": "CyFDZp-fJDyP"
      }
    },
    {
      "cell_type": "code",
      "source": [
        "import pandas as pd\n",
        "\n",
        "\n",
        "date1_str = input(\"Enter the first date (YYYY-MM-DD): \")\n",
        "date1 = pd.to_datetime(date1_str)\n",
        "\n",
        "\n",
        "date2_str = input(\"Enter the second date (YYYY-MM-DD): \")\n",
        "date2 = pd.to_datetime(date2_str)\n",
        "\n",
        "delta = date2 - date1\n",
        "\n",
        "\n",
        "days = delta.days\n",
        "hours = delta.seconds \n",
        "minutes = delta.seconds\n",
        "\n",
        "\n",
        "print(f\"The difference between {date1_str} and {date2_str} is:\")\n",
        "print(f\"{days} days, {hours} hours, and {minutes} minutes.\")\n"
      ],
      "metadata": {
        "colab": {
          "base_uri": "https://localhost:8080/"
        },
        "id": "sA8MMWMSQMCV",
        "outputId": "a1683541-b6ea-4a0d-9806-27bdd8881da0"
      },
      "execution_count": null,
      "outputs": [
        {
          "output_type": "stream",
          "name": "stdout",
          "text": [
            "Enter the first date (YYYY-MM-DD): 2020-2-2\n",
            "Enter the second date (YYYY-MM-DD): 2020-2-18\n",
            "The difference between 2020-2-2 and 2020-2-18 is:\n",
            "16 days, 0 hours, and 0 minutes.\n"
          ]
        }
      ]
    },
    {
      "cell_type": "markdown",
      "source": [
        "Q9. Write a Python program that reads a CSV file containing categorical data and converts a specified\n",
        "column to a categorical data type. The program should prompt the user to enter the file path, column\n",
        "name, and category order, and then display the sorted data."
      ],
      "metadata": {
        "id": "YhirXXUnQgvi"
      }
    },
    {
      "cell_type": "code",
      "source": [
        "import pandas as pd \n",
        "ad = pd.read_csv('bhushan1.csv')"
      ],
      "metadata": {
        "id": "jv7w5sJtQh1B"
      },
      "execution_count": null,
      "outputs": []
    },
    {
      "cell_type": "code",
      "source": [
        "import pandas as pd\n",
        "\n",
        "# Prompt the user to enter the file path\n",
        "file_path = input(\"Enter the file path: \")\n",
        "\n",
        "# Prompt the user to enter the column name\n",
        "column_name = input(\"Enter the column name: \")\n",
        "\n",
        "# Prompt the user to enter the category order\n",
        "category_order = input(\"Enter the category order (comma-separated): \").split(\",\")\n",
        "\n",
        "# Read the CSV file into a DataFrame\n",
        "df = pd.read_csv(file_path)\n",
        "\n",
        "# Convert the specified column to a categorical variable with the specified category order\n",
        "df[column_name] = pd.Categorical(df[column_name], categories=category_order, ordered=True)\n",
        "\n",
        "# Sort the DataFrame by the specified column\n",
        "df_sorted = df.sort_values(by=column_name)\n",
        "\n",
        "# Display the sorted DataFrame\n",
        "print(df_sorted)\n"
      ],
      "metadata": {
        "colab": {
          "base_uri": "https://localhost:8080/"
        },
        "id": "2LvayBLPSFrM",
        "outputId": "2a1890d7-66ec-4860-ae24-9b90533f7c11"
      },
      "execution_count": null,
      "outputs": [
        {
          "output_type": "stream",
          "name": "stdout",
          "text": [
            "Enter the file path: /content/bhushan1.csv\n",
            "Enter the column name: age\n",
            "Enter the category order (comma-separated): age,marks,name\n",
            "   Unnamed: 0 name  age  marks\n",
            "0           0    a  NaN     55\n",
            "1           1    b  NaN     66\n",
            "2           2    c  NaN     56\n",
            "3           3    d  NaN     67\n",
            "4           4    e  NaN     88\n",
            "5           5    b  NaN     98\n"
          ]
        }
      ]
    },
    {
      "cell_type": "markdown",
      "source": [
        "Q10. Write a Python program that reads a CSV file containing sales data for different products and\n",
        "visualizes the data using a stacked bar chart to show the sales of each product category over time. The\n",
        "program should prompt the user to enter the file path and display the chart."
      ],
      "metadata": {
        "id": "nM-E-O-sWHP5"
      }
    },
    {
      "cell_type": "code",
      "source": [
        "import pandas as pd\n",
        "\n",
        "# Prompt the user to enter the file path\n",
        "file_path = input(\"Enter the file path: \")\n",
        "\n",
        "# Read the CSV file\n",
        "sales_data = pd.read_csv(file_path)\n",
        "\n",
        "# Group the data by product category and date and sum up the sales for each group\n",
        "grouped_data = sales_data.groupby(['Product Category', 'Date'])['Sales'].sum().unstack()\n",
        "\n",
        "# Create a stacked bar chart using pandas plotting function\n",
        "grouped_data.plot(kind='bar', stacked=True, title='Sales by Product Category')\n",
        "\n",
        "# Set the axis labels\n",
        "plt.xlabel('Date')\n",
        "plt.ylabel('Sales')\n",
        "\n",
        "# Display the chart\n",
        "plt.show()\n"
      ],
      "metadata": {
        "id": "uRzMCzTLejfr"
      },
      "execution_count": null,
      "outputs": []
    },
    {
      "cell_type": "markdown",
      "source": [
        "Q11. You are given a CSV file containing student data that includes the student ID and their test score. Write\n",
        "a Python program that reads the CSV file, calculates the mean, median, and mode of the test scores, and\n",
        "displays the results in a table.\n",
        "The program should do the followingM\n",
        "I Prompt the user to enter the file path of the CSV file containing the student dataR\n",
        "I Read the CSV file into a Pandas DataFrameR\n",
        "I Calculate the mean, median, and mode of the test scores using Pandas toolsR\n",
        "I Display the mean, median, and mode in a table.\n",
        "Assume the CSV file contains the following columnsM\n",
        "I Student ID: The ID of the studentR\n",
        "I Test Score: The score of the student's test.\n",
        "Example usage of the program:\n",
        "Enter the file path of the CSV file containing the student data: student_data.csv\n",
        "+-----------+--------+\n",
        "| Statistic | Value |\n",
        "+-----------+--------+\n",
        "| Mean | 79.6 |\n",
        "| Median | 82 |\n",
        "| Mode | 85, 90 |\n",
        "+-----------+--------+\n",
        "Assume that the CSV file student_data.csv contains the following data:\n",
        "Student ID,Test Score\n",
        "1,85\n",
        "2,90\n",
        "3,80\n",
        "4,75\n",
        "5,85\n",
        "6,82\n",
        "7,78\n",
        "8,85\n",
        "9,90\n",
        "10,85\n",
        "The program should calculate the mean, median, and mode of the test scores and display the results"
      ],
      "metadata": {
        "id": "J8cvxdQdgyCv"
      }
    },
    {
      "cell_type": "code",
      "source": [
        "import pandas as pd\n",
        "\n",
        "# Prompt the user to enter the file path of the CSV file containing the student data\n",
        "file_path = input(\"Enter the file path of the CSV file containing the student data: \")\n",
        "\n",
        "# Read the CSV file into a Pandas DataFrame\n",
        "data = pd.read_csv(file_path)\n",
        "\n",
        "# Calculate the mean, median, and mode of the test scores using Pandas tools\n",
        "mean = data['Test_Score'].mean()\n",
        "median = data['Test_Score'].median()\n",
        "mode = data['Test_Score'].mode()\n",
        "a =(\",\".join(str(x) for x in mode))\n",
        "\n",
        "\n",
        "print(f\"+-----------+--------+\")\n",
        "print(f\"| Statistic | Value  |\")\n",
        "print(f\"+-----------+--------+\")\n",
        "print(f\"| Mean      | {mean}   |\")\n",
        "print(f\"| median    | {median}  |\")\n",
        "print(f\"| median    | {a}   |\")\n",
        "print(f\"+-----------+--------+\")"
      ],
      "metadata": {
        "id": "gXJeP7fVxNYG",
        "colab": {
          "base_uri": "https://localhost:8080/"
        },
        "outputId": "b6fc3f4e-3fa6-4603-dbef-a4d271bf3d83"
      },
      "execution_count": 1,
      "outputs": [
        {
          "output_type": "stream",
          "name": "stdout",
          "text": [
            "Enter the file path of the CSV file containing the student data: /content/badal.csv\n",
            "+-----------+--------+\n",
            "| Statistic | Value  |\n",
            "+-----------+--------+\n",
            "| Mean      | 72.2   |\n",
            "| median    | 73.0  |\n",
            "| median    | 65,90   |\n",
            "+-----------+--------+\n"
          ]
        }
      ]
    },
    {
      "cell_type": "code",
      "source": [],
      "metadata": {
        "id": "HSVUquyIKcV3"
      },
      "execution_count": null,
      "outputs": []
    }
  ]
}